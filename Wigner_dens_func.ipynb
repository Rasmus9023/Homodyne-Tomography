{
 "cells": [
  {
   "cell_type": "markdown",
   "metadata": {},
   "source": [
    "# Wigner_dens_func"
   ]
  },
  {
   "cell_type": "markdown",
   "metadata": {},
   "source": [
    "### This file examines correspondence between Wigner-function and the density operator"
   ]
  },
  {
   "cell_type": "code",
   "execution_count": 1,
   "metadata": {},
   "outputs": [],
   "source": [
    "import math as mt\n",
    "import numpy as np\n",
    "from scipy.special import genlaguerre\n",
    "from scipy.integrate import quad\n",
    "import qutip as qt"
   ]
  },
  {
   "cell_type": "code",
   "execution_count": 2,
   "metadata": {},
   "outputs": [],
   "source": [
    "# These functions are gathered from Jonas' thesis, pg. 10\n",
    "\n",
    "def WignerElement(m,n,x,p):\n",
    "    return 1/mt.pi * mt.exp(-x**2-p**2) * (-1)**n * (x - complex(0,p))**(m-n) * mt.sqrt(2**(m-n)*mt.factorial(n)/mt.factorial(m)) * genlaguerre(n,m-n) * (2*x**2+2*p**2)\n",
    "\n",
    "def StateOp(m,n,alpha):\n",
    "    mt.exp(-np.linalg.norm(alpha)**2) * (alpha**m * (np.conjugate(alpha))**n)/mt.sqrt(mt.factorial(m)*mt.factorial(n))\n",
    "\n",
    "def Wigner(x,p,M,N,alpha):\n",
    "    sum = 0\n",
    "    for m in M:\n",
    "        for n in N:\n",
    "            sum += StateOp(m,n,alpha)*WignerElement(m,n,x,p)"
   ]
  },
  {
   "cell_type": "code",
   "execution_count": 3,
   "metadata": {},
   "outputs": [],
   "source": [
    "# Example Wigner\n",
    "\n",
    "N = 20\n",
    "\n",
    "rho_coherent = qt.coherent_dm(N, np.sqrt(2))\n",
    "\n",
    "xvec = np.linspace(-5,5,200)\n",
    "\n",
    "W_coherent = qt.wigner(rho_coherent, xvec, xvec)"
   ]
  },
  {
   "cell_type": "code",
   "execution_count": 4,
   "metadata": {},
   "outputs": [
    {
     "ename": "TypeError",
     "evalue": "only length-1 arrays can be converted to Python scalars",
     "output_type": "error",
     "traceback": [
      "\u001b[1;31m---------------------------------------------------------------------------\u001b[0m",
      "\u001b[1;31mTypeError\u001b[0m                                 Traceback (most recent call last)",
      "Cell \u001b[1;32mIn[4], line 15\u001b[0m\n\u001b[0;32m     13\u001b[0m \u001b[38;5;28;01mfor\u001b[39;00m i \u001b[38;5;129;01min\u001b[39;00m \u001b[38;5;28mrange\u001b[39m(m):\n\u001b[0;32m     14\u001b[0m     \u001b[38;5;28;01mfor\u001b[39;00m j \u001b[38;5;129;01min\u001b[39;00m \u001b[38;5;28mrange\u001b[39m(n):\n\u001b[1;32m---> 15\u001b[0m         rho[m][n] \u001b[38;5;241m=\u001b[39m \u001b[38;5;241m2\u001b[39m\u001b[38;5;241m*\u001b[39mmt\u001b[38;5;241m.\u001b[39mpi\u001b[38;5;241m*\u001b[39mquad(\u001b[38;5;241m*\u001b[39mquad(W_coherent\u001b[38;5;241m*\u001b[39m\u001b[43mWignerElement\u001b[49m\u001b[43m(\u001b[49m\u001b[43mm\u001b[49m\u001b[43m,\u001b[49m\u001b[43mn\u001b[49m\u001b[43m,\u001b[49m\u001b[43mrange_x\u001b[49m\u001b[43m,\u001b[49m\u001b[43mrange_p\u001b[49m\u001b[43m)\u001b[49m,x,\u001b[38;5;241m-\u001b[39mN,N),p,\u001b[38;5;241m-\u001b[39mN,N)\n",
      "Cell \u001b[1;32mIn[2], line 4\u001b[0m, in \u001b[0;36mWignerElement\u001b[1;34m(m, n, x, p)\u001b[0m\n\u001b[0;32m      3\u001b[0m \u001b[38;5;28;01mdef\u001b[39;00m \u001b[38;5;21mWignerElement\u001b[39m(m,n,x,p):\n\u001b[1;32m----> 4\u001b[0m     \u001b[38;5;28;01mreturn\u001b[39;00m \u001b[38;5;241m1\u001b[39m\u001b[38;5;241m/\u001b[39mmt\u001b[38;5;241m.\u001b[39mpi \u001b[38;5;241m*\u001b[39m \u001b[43mmt\u001b[49m\u001b[38;5;241;43m.\u001b[39;49m\u001b[43mexp\u001b[49m\u001b[43m(\u001b[49m\u001b[38;5;241;43m-\u001b[39;49m\u001b[43mx\u001b[49m\u001b[38;5;241;43m*\u001b[39;49m\u001b[38;5;241;43m*\u001b[39;49m\u001b[38;5;241;43m2\u001b[39;49m\u001b[38;5;241;43m-\u001b[39;49m\u001b[43mp\u001b[49m\u001b[38;5;241;43m*\u001b[39;49m\u001b[38;5;241;43m*\u001b[39;49m\u001b[38;5;241;43m2\u001b[39;49m\u001b[43m)\u001b[49m \u001b[38;5;241m*\u001b[39m (\u001b[38;5;241m-\u001b[39m\u001b[38;5;241m1\u001b[39m)\u001b[38;5;241m*\u001b[39m\u001b[38;5;241m*\u001b[39mn \u001b[38;5;241m*\u001b[39m (x \u001b[38;5;241m-\u001b[39m \u001b[38;5;28mcomplex\u001b[39m(\u001b[38;5;241m0\u001b[39m,p))\u001b[38;5;241m*\u001b[39m\u001b[38;5;241m*\u001b[39m(m\u001b[38;5;241m-\u001b[39mn) \u001b[38;5;241m*\u001b[39m mt\u001b[38;5;241m.\u001b[39msqrt(\u001b[38;5;241m2\u001b[39m\u001b[38;5;241m*\u001b[39m\u001b[38;5;241m*\u001b[39m(m\u001b[38;5;241m-\u001b[39mn)\u001b[38;5;241m*\u001b[39mmt\u001b[38;5;241m.\u001b[39mfactorial(n)\u001b[38;5;241m/\u001b[39mmt\u001b[38;5;241m.\u001b[39mfactorial(m)) \u001b[38;5;241m*\u001b[39m genlaguerre(n,m\u001b[38;5;241m-\u001b[39mn) \u001b[38;5;241m*\u001b[39m (\u001b[38;5;241m2\u001b[39m\u001b[38;5;241m*\u001b[39mx\u001b[38;5;241m*\u001b[39m\u001b[38;5;241m*\u001b[39m\u001b[38;5;241m2\u001b[39m\u001b[38;5;241m+\u001b[39m\u001b[38;5;241m2\u001b[39m\u001b[38;5;241m*\u001b[39mp\u001b[38;5;241m*\u001b[39m\u001b[38;5;241m*\u001b[39m\u001b[38;5;241m2\u001b[39m)\n",
      "\u001b[1;31mTypeError\u001b[0m: only length-1 arrays can be converted to Python scalars"
     ]
    }
   ],
   "source": [
    "# Here we want to generate the state operator from the wigner function\n",
    "\n",
    "m = 200\n",
    "n = 200\n",
    "\n",
    "N = 200\n",
    "\n",
    "rho = np.zeros((m,n))\n",
    "\n",
    "range_x = np.linspace(0,200,200)\n",
    "range_p = np.linspace(0,200,200)\n",
    "\n",
    "for i in range(m):\n",
    "    for j in range(n):\n",
    "        rho[m][n] = 2*mt.pi*quad(*quad(W_coherent*WignerElement(m,n,range_x,range_p),x,-N,N),p,-N,N)"
   ]
  }
 ],
 "metadata": {
  "kernelspec": {
   "display_name": "Python 3",
   "language": "python",
   "name": "python3"
  },
  "language_info": {
   "codemirror_mode": {
    "name": "ipython",
    "version": 3
   },
   "file_extension": ".py",
   "mimetype": "text/x-python",
   "name": "python",
   "nbconvert_exporter": "python",
   "pygments_lexer": "ipython3",
   "version": "3.12.5"
  }
 },
 "nbformat": 4,
 "nbformat_minor": 2
}
